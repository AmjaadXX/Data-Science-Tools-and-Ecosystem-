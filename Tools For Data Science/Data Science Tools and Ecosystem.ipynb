{
 "cells": [
  {
   "cell_type": "markdown",
   "id": "b16eb689",
   "metadata": {},
   "source": [
    "# Data Science Tools and Ecosystem"
   ]
  },
  {
   "cell_type": "markdown",
   "id": "d8d062a3",
   "metadata": {},
   "source": [
    "Leveraging Jupyterlite Notebook on Skills Network labs, a Jupyterlite Notebook will be created and shared via a public GitHub link.\n",
    "\n"
   ]
  },
  {
   "cell_type": "markdown",
   "id": "81355f5e",
   "metadata": {},
   "source": [
    "# *Objectives:*\n",
    "*Recognise the purpose of data science tools within the data science process.\n",
    "*Gain hands-on experience with popular data science tools.\n",
    "*evelop the skills to apply data science tools."
   ]
  },
  {
   "cell_type": "markdown",
   "id": "b1c85194",
   "metadata": {},
   "source": [
    "# list data science languages:\n",
    "1. R Language\n",
    "2. Python\n",
    "3. SQL"
   ]
  },
  {
   "cell_type": "markdown",
   "id": "a2d5be57",
   "metadata": {},
   "source": [
    "# list data science libraries:\n",
    "1. NumPy \n",
    "2. matplotlib \n",
    "3. Scikit-Learn \n",
    "4. Seaborn \n"
   ]
  },
  {
   "cell_type": "markdown",
   "id": "036a283c",
   "metadata": {},
   "source": [
    "|processing and manipulation|Distributed Version Control Systems|\n",
    "|---------------------------|:----------------------------------|\n",
    "|R and Python|    Git|\n"
   ]
  },
  {
   "cell_type": "markdown",
   "id": "e2eac5b6",
   "metadata": {},
   "source": [
    "|Below are a few examples of evaluating arithmetic expressions in Python|\n",
    "|-----------------------------------------|\n",
    "|+ - == /|"
   ]
  },
  {
   "cell_type": "code",
   "execution_count": 2,
   "id": "c829ed67",
   "metadata": {},
   "outputs": [
    {
     "name": "stdout",
     "output_type": "stream",
     "text": [
      "20\n"
     ]
    }
   ],
   "source": [
    "print(4*4 + 4)"
   ]
  },
  {
   "cell_type": "code",
   "execution_count": 7,
   "id": "39080ac3",
   "metadata": {},
   "outputs": [
    {
     "name": "stdout",
     "output_type": "stream",
     "text": [
      "3.3333333333333335\n"
     ]
    }
   ],
   "source": [
    "mins=200\n",
    "hrs=mins/60\n",
    "print(hrs)"
   ]
  },
  {
   "cell_type": "markdown",
   "id": "5917ed27",
   "metadata": {},
   "source": [
    "## Author \n",
    "Amjaad"
   ]
  },
  {
   "cell_type": "code",
   "execution_count": null,
   "id": "0f72cbe1",
   "metadata": {},
   "outputs": [],
   "source": []
  }
 ],
 "metadata": {
  "kernelspec": {
   "display_name": "Python 3 (ipykernel)",
   "language": "python",
   "name": "python3"
  },
  "language_info": {
   "codemirror_mode": {
    "name": "ipython",
    "version": 3
   },
   "file_extension": ".py",
   "mimetype": "text/x-python",
   "name": "python",
   "nbconvert_exporter": "python",
   "pygments_lexer": "ipython3",
   "version": "3.11.4"
  }
 },
 "nbformat": 4,
 "nbformat_minor": 5
}
